{
  "nbformat": 4,
  "nbformat_minor": 0,
  "metadata": {
    "colab": {
      "provenance": []
    },
    "kernelspec": {
      "name": "python3",
      "display_name": "Python 3"
    },
    "language_info": {
      "name": "python"
    }
  },
  "cells": [
    {
      "cell_type": "code",
      "execution_count": 1,
      "metadata": {
        "id": "lXT0M8oZQgAB"
      },
      "outputs": [],
      "source": [
        "import requests\n",
        "from requests import Request, Session\n",
        "from requests.exceptions import ConnectionError, Timeout, TooManyRedirects\n",
        "import json\n",
        "import pandas as pd\n",
        "import numpy as np"
      ]
    },
    {
      "cell_type": "code",
      "source": [
        "def fetch_books_data(query_params):\n",
        "    \"\"\"\n",
        "    Fetch raw data from the Google Books API with flexible query parameters.\n",
        "\n",
        "    :param query_params: A dictionary of query parameters (e.g., {\"intitle\": \"Python\", \"inauthor\": \"Guido\"}).\n",
        "    :return: The raw JSON response from the API.\n",
        "    \"\"\"\n",
        "    # Define the base URL for the Google Books API\n",
        "    url = \"https://www.googleapis.com/books/v1/volumes\"\n",
        "\n",
        "    # Dynamically build the query string from the dictionary of query parameters\n",
        "    # Each key-value pair in the dictionary is formatted as \"key:value\"\n",
        "    # The \"join\" function combines these pairs with spaces to create the full query string\n",
        "    query = \" \".join(f\"{key}:{value}\" for key, value in query_params.items())\n",
        "\n",
        "    # Define the parameters for the API request\n",
        "    params = {\n",
        "        \"q\": query,  # The query string constructed above\n",
        "        \"maxResults\": 13  # Limit the number of results returned by the API to 10\n",
        "    }\n",
        "\n",
        "    try:\n",
        "        # Send a GET request to the Google Books API with the specified parameters\n",
        "        response = requests.get(url, params=params)\n",
        "\n",
        "        # Check for HTTP errors; raise an exception if the response status indicates an error\n",
        "        response.raise_for_status()\n",
        "\n",
        "        # If the request is successful, return the JSON data from the API response\n",
        "        return response.json()\n",
        "\n",
        "    except requests.exceptions.RequestException as e:\n",
        "        # If an error occurs during the request, print the error message\n",
        "        print(f\"API request error: {e}\")\n",
        "\n",
        "        # Return an empty dictionary to signify failure\n",
        "        return {}\n"
      ],
      "metadata": {
        "id": "fqy0Ah2ShZBi"
      },
      "execution_count": 31,
      "outputs": []
    },
    {
      "cell_type": "code",
      "source": [
        "def format_json(data):\n",
        "    \"\"\"\n",
        "    Format and pretty-print JSON data.\n",
        "\n",
        "    :param data: The JSON data (as a Python dictionary).\n",
        "    :return: A formatted string representation of the JSON data.\n",
        "    \"\"\"\n",
        "    try:\n",
        "        # Convert JSON data to a pretty-printed string\n",
        "        return json.dumps(data, indent=4)\n",
        "    except (TypeError, ValueError) as e:\n",
        "        # Handle errors in case the input is not valid JSON\n",
        "        print(f\"Error formatting JSON: {e}\")\n",
        "        return \"{}\"\n",
        "\n"
      ],
      "metadata": {
        "id": "nadFFDOn21u8"
      },
      "execution_count": 3,
      "outputs": []
    },
    {
      "cell_type": "code",
      "source": [
        "def json_to_dataframe(raw_data):\n",
        "    \"\"\"\n",
        "    Transform JSON data from the Google Books API into a pandas DataFrame.\n",
        "\n",
        "    :param json_data: Raw JSON data from the Google Books API.\n",
        "    :return: A pandas DataFrame containing relevant book information.\n",
        "    \"\"\"\n",
        "    try:\n",
        "        # Extract the list of books from the JSON data\n",
        "        items = json_data.get(\"items\", [])\n",
        "\n",
        "        # Prepare a list to store extracted metadata\n",
        "        metadata = []\n",
        "\n",
        "        # Iterate through the books and extract relevant fields\n",
        "        for item in items:\n",
        "            volume_info = item.get(\"volumeInfo\", {})\n",
        "            record = {\n",
        "                \"ID\": item.get(\"id\", np.nan),\n",
        "                \"Title\": volume_info.get(\"title\", np.nan),\n",
        "                \"Authors\": \", \".join(volume_info.get(\"authors\", [])) if \"authors\" in volume_info else np.nan, #note this may return an emtpy [] not NAN\n",
        "                \"Publisher\": volume_info.get(\"publisher\", np.nan),\n",
        "                \"Page Count\": volume_info.get(\"pageCount\", np.nan),\n",
        "                \"Language\": volume_info.get(\"language\", np.nan),\n",
        "                \"Category\": \", \".join(volume_info.get(\"categories\", [])) if \"categories\" in volume_info else np.nan, #note this may return an emtpy [] not NAN\n",
        "                \"Thumbnail\": volume_info.get(\"imageLinks\", {}).get(\"thumbnail\", np.nan), #note this may return an emtpy {} not NAN\n",
        "\n",
        "\n",
        "                \"ISBN_13\": next(\n",
        "                    (\n",
        "                        identifier[\"identifier\"]\n",
        "                        for identifier in volume_info.get(\"industryIdentifiers\", [])\n",
        "                        if identifier[\"type\"] == \"ISBN_13\"\n",
        "                    ),\n",
        "                    np.nan,\n",
        "                ),\n",
        "                \"ISBN_10\": next(\n",
        "                    (\n",
        "                        identifier[\"identifier\"]\n",
        "                        for identifier in volume_info.get(\"industryIdentifiers\", [])\n",
        "                        if identifier[\"type\"] == \"ISBN_10\"\n",
        "                    ),\n",
        "                    np.nan,\n",
        "                ),\n",
        "            }\n",
        "            metadata.append(record)\n",
        "\n",
        "        # Create a DataFrame from the metadata\n",
        "        return pd.DataFrame(metadata)\n",
        "\n",
        "    except Exception as e:\n",
        "        print(f\"Error processing JSON data: {e}\")\n",
        "        return pd.DataFrame()\n"
      ],
      "metadata": {
        "id": "HsxTuCBm6KqG"
      },
      "execution_count": 4,
      "outputs": []
    },
    {
      "cell_type": "code",
      "source": [
        "def select_book_from_results(books_df):\n",
        "    \"\"\"\n",
        "    Allows the user to select a book from the results in the DataFrame,\n",
        "    displaying them in batches of 5. If '6' is selected, the next batch is shown.\n",
        "\n",
        "    :param books_df: Pandas DataFrame containing book data.\n",
        "    :return: A dictionary of the selected book's metadata or None if no valid selection is made.\n",
        "    \"\"\"\n",
        "    # Check if the DataFrame is empty\n",
        "    if books_df.empty:\n",
        "        print(\"No books available to select.\")\n",
        "        return None  # Can be enhanced by asking to repeat\n",
        "\n",
        "    start_index = 0  # Initial starting index for displaying books\n",
        "    print(f\"There were \" + str(len(books_df)) + \" books found\")\n",
        "\n",
        "    while True:\n",
        "        # Display the next batch of books (5 at a time)\n",
        "        end_index = start_index + 5\n",
        "        subset_books = books_df.iloc[start_index:end_index]\n",
        "\n",
        "        if subset_books.empty:\n",
        "            print(\"No more books to display.\")\n",
        "            return None  # Stop if there are no more books to display\n",
        "\n",
        "        print(\"\\nAvailable books:\")\n",
        "        for i, row in subset_books.iterrows():\n",
        "            print(f\"{i + 1}: {row['Title']} by {row['Authors']}\")\n",
        "\n",
        "        if int(len(subset_books)) % 5 == 0:\n",
        "            print(\"6: Show the next 5 books (if available)\")\n",
        "\n",
        "        print(\"0: Cancel selection\")\n",
        "\n",
        "        # Prompt the user to choose a book\n",
        "        try:\n",
        "            choice = int(input(f\"\\nEnter the number of the book you want to select (1-5), 6 to show more, or 0 to cancel: \"))\n",
        "            if 1 <= choice <= len(subset_books):\n",
        "                # Return the selected book's data as a dictionary\n",
        "                selected_book = subset_books.iloc[choice - 1 - start_index].to_dict()\n",
        "                print(f\"\\nYou selected: {selected_book['Title']} by {selected_book['Authors']}\")\n",
        "                return selected_book\n",
        "            elif choice == 6:\n",
        "                # Show the next batch of books\n",
        "                start_index += 5\n",
        "            elif choice == 0:\n",
        "                print(\"Selection canceled.\")\n",
        "                return None\n",
        "            else:\n",
        "                print(\"Invalid selection. Please choose a valid option.\")\n",
        "        except ValueError:\n",
        "            print(\"Invalid input. Please enter a number between 1 and 6, or 0 to cancel.\")\n"
      ],
      "metadata": {
        "id": "WufLa7sEoSpV"
      },
      "execution_count": 36,
      "outputs": []
    },
    {
      "cell_type": "code",
      "source": [
        "# Define your search query (e.g., by title or author)\n",
        "# example of serach query:\n",
        "#query_params = {\"intitle\": \"Python\", \"inauthor\": \"Guido\", \"isbn\": \"9781449355739\"}\n",
        "query_params = {\"intitle\": \"Python\"}\n",
        "\n",
        "raw_data = fetch_books_data(query_params)\n",
        "book_df= json_to_dataframe(raw_data)\n",
        "selection = select_book_from_results(book_df)\n",
        "print(selection)\n",
        "#formatted_json = format_json(raw_data)\n",
        "#books_df = json_to_dataframe(raw_data)\n",
        "#print(formatted_json)\n",
        "#print(books_df.head())"
      ],
      "metadata": {
        "colab": {
          "base_uri": "https://localhost:8080/"
        },
        "id": "SXbTQK_NigWF",
        "outputId": "a1326f95-8e6f-4c2f-b4b3-e92bd4f4316b"
      },
      "execution_count": 37,
      "outputs": [
        {
          "output_type": "stream",
          "name": "stdout",
          "text": [
            "There were 13 books found\n",
            "\n",
            "Available books:\n",
            "1: Programming in Python 3 by Mark Summerfield\n",
            "2: Core Python Programming by Wesley Chun\n",
            "3: Learning Python by Mark Lutz, David Ascher\n",
            "4: Python Programming by John M. Zelle\n",
            "5: Introduction to Computation and Programming Using Python, second edition by John V. Guttag\n",
            "6: Show the next 5 books (if available)\n",
            "0: Cancel selection\n",
            "\n",
            "Enter the number of the book you want to select (1-5), 6 to show more, or 0 to cancel: 6\n",
            "\n",
            "Available books:\n",
            "6: Learn Python by Damon Parker\n",
            "7: Python Cookbook by David Beazley, Brian K. Jones\n",
            "8: Head First Python by Paul Barry\n",
            "9: Python Crash Course, 3rd Edition by Eric Matthes\n",
            "10: Core Python Applications Programming by Wesley J Chun\n",
            "6: Show the next 5 books (if available)\n",
            "0: Cancel selection\n",
            "\n",
            "Enter the number of the book you want to select (1-5), 6 to show more, or 0 to cancel: 6\n",
            "\n",
            "Available books:\n",
            "11: Python Crash Course by Eric Matthes\n",
            "12: Python Programming on Win32 by Mark J. Hammond, Andy Robinson\n",
            "13: Natural Language Processing with Python by Steven Bird, Ewan Klein, Edward Loper\n",
            "0: Cancel selection\n",
            "\n",
            "Enter the number of the book you want to select (1-5), 6 to show more, or 0 to cancel: 0\n",
            "Selection canceled.\n",
            "None\n"
          ]
        }
      ]
    },
    {
      "cell_type": "code",
      "source": [
        "# Set display options\n",
        "pd.set_option('display.max_colwidth', None)  # This ensures that full content is shown in each column\n",
        "pd.set_option('display.max_rows', 100)      # Set the number of rows you want to display\n",
        "pd.set_option('display.max_columns', 20)    # Set the number of columns you want to display\n"
      ],
      "metadata": {
        "id": "svhRm04FnFoJ"
      },
      "execution_count": null,
      "outputs": []
    }
  ]
}