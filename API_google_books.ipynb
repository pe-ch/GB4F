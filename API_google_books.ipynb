{
  "nbformat": 4,
  "nbformat_minor": 0,
  "metadata": {
    "colab": {
      "provenance": []
    },
    "kernelspec": {
      "name": "python3",
      "display_name": "Python 3"
    },
    "language_info": {
      "name": "python"
    }
  },
  "cells": [
    {
      "cell_type": "code",
      "execution_count": 170,
      "metadata": {
        "id": "lXT0M8oZQgAB"
      },
      "outputs": [],
      "source": [
        "import requests\n",
        "from requests import Request, Session\n",
        "from requests.exceptions import ConnectionError, Timeout, TooManyRedirects\n",
        "import json\n",
        "import pandas as pd\n",
        "import numpy as np"
      ]
    },
    {
      "cell_type": "code",
      "source": [
        "def fetch_books_data(query_params):\n",
        "    \"\"\"\n",
        "    Fetch raw data from the Google Books API with flexible query parameters.\n",
        "\n",
        "    :param query_params: A dictionary of query parameters (e.g., {\"intitle\": \"Python\", \"inauthor\": \"Guido\"}).\n",
        "    :return: The raw JSON response from the API.\n",
        "    \"\"\"\n",
        "    # Define the base URL for the Google Books API\n",
        "    url = \"https://www.googleapis.com/books/v1/volumes\"\n",
        "\n",
        "    # Dynamically build the query string from the dictionary of query parameters\n",
        "    # Each key-value pair in the dictionary is formatted as \"key:value\"\n",
        "    # The \"join\" function combines these pairs with spaces to create the full query string\n",
        "    query = \" \".join(f\"{key}:{value}\" for key, value in query_params.items())\n",
        "\n",
        "    # Define the parameters for the API request\n",
        "    params = {\n",
        "        \"q\": query,  # The query string constructed above\n",
        "        \"maxResults\": 13  # Limit the number of results returned by the API to x\n",
        "    }\n",
        "\n",
        "    try:\n",
        "        # Send a GET request to the Google Books API with the specified parameters\n",
        "        response = requests.get(url, params=params)\n",
        "\n",
        "        # Check for HTTP errors; raise an exception if the response status indicates an error\n",
        "        response.raise_for_status()\n",
        "\n",
        "        # If the request is successful, return the JSON data from the API response\n",
        "        return response.json()\n",
        "\n",
        "    except requests.exceptions.RequestException as e:\n",
        "        # If an error occurs during the request, print the error message\n",
        "        print(f\"API request error: {e}\")\n",
        "\n",
        "        # Return an empty dictionary to signify failure\n",
        "        return {}\n"
      ],
      "metadata": {
        "id": "fqy0Ah2ShZBi"
      },
      "execution_count": 171,
      "outputs": []
    },
    {
      "cell_type": "code",
      "source": [
        "def format_json(data):\n",
        "    \"\"\"\n",
        "    Format and pretty-print JSON data.\n",
        "\n",
        "    :param data: The JSON data (as a Python dictionary).\n",
        "    :return: A formatted string representation of the JSON data.\n",
        "    \"\"\"\n",
        "    try:\n",
        "        # Convert JSON data to a pretty-printed string\n",
        "        return json.dumps(data, indent=4)\n",
        "    except (TypeError, ValueError) as e:\n",
        "        # Handle errors in case the input is not valid JSON\n",
        "        print(f\"Error formatting JSON: {e}\")\n",
        "        return \"{}\"\n",
        "\n"
      ],
      "metadata": {
        "id": "nadFFDOn21u8"
      },
      "execution_count": 172,
      "outputs": []
    },
    {
      "cell_type": "code",
      "source": [
        "def json_to_dataframe(raw_data):\n",
        "    \"\"\"\n",
        "    Transform JSON data from the Google Books API into a pandas DataFrame.\n",
        "\n",
        "    :param json_data: Raw JSON data from the Google Books API.\n",
        "    :return: A pandas DataFrame containing relevant book information.\n",
        "    \"\"\"\n",
        "    try:\n",
        "        # Extract the list of books from the JSON data\n",
        "        items = raw_data.get(\"items\", [])\n",
        "\n",
        "        # Prepare a list to store extracted metadata\n",
        "        metadata = []\n",
        "\n",
        "        # Iterate through the books and extract relevant fields\n",
        "        for item in items:\n",
        "            volume_info = item.get(\"volumeInfo\", {})\n",
        "            record = {\n",
        "                \"ID\": item.get(\"id\", np.nan),\n",
        "                \"Title\": volume_info.get(\"title\", np.nan),\n",
        "                \"Authors\": \", \".join(volume_info.get(\"authors\", [])) if \"authors\" in volume_info else np.nan, #note this may return an emtpy [] not NAN\n",
        "                \"Publisher\": volume_info.get(\"publisher\", np.nan),\n",
        "                \"Page Count\": volume_info.get(\"pageCount\", np.nan),\n",
        "                \"Language\": volume_info.get(\"language\", np.nan),\n",
        "                \"Category\": \", \".join(volume_info.get(\"categories\", [])) if \"categories\" in volume_info else np.nan, #note this may return an emtpy [] not NAN\n",
        "                \"Thumbnail\": volume_info.get(\"imageLinks\", {}).get(\"thumbnail\", np.nan), #note this may return an emtpy {} not NAN\n",
        "\n",
        "\n",
        "                \"ISBN_13\": next(\n",
        "                    (\n",
        "                        identifier[\"identifier\"]\n",
        "                        for identifier in volume_info.get(\"industryIdentifiers\", [])\n",
        "                        if identifier[\"type\"] == \"ISBN_13\"\n",
        "                    ),\n",
        "                    np.nan,\n",
        "                ),\n",
        "                \"ISBN_10\": next(\n",
        "                    (\n",
        "                        identifier[\"identifier\"]\n",
        "                        for identifier in volume_info.get(\"industryIdentifiers\", [])\n",
        "                        if identifier[\"type\"] == \"ISBN_10\"\n",
        "                    ),\n",
        "                    np.nan,\n",
        "                ),\n",
        "            }\n",
        "            metadata.append(record)\n",
        "\n",
        "        # Create a DataFrame from the metadata\n",
        "        return pd.DataFrame(metadata)\n",
        "\n",
        "    except Exception as e:\n",
        "        print(f\"Error processing JSON data: {e}\")\n",
        "        return pd.DataFrame()\n"
      ],
      "metadata": {
        "id": "HsxTuCBm6KqG"
      },
      "execution_count": 173,
      "outputs": []
    },
    {
      "cell_type": "code",
      "source": [
        "def select_book_from_results(books_df):\n",
        "    \"\"\"\n",
        "    Allows the user to select a book from the results in the DataFrame,\n",
        "    displaying them in batches of x <-- can be defined.\n",
        "\n",
        "    :param books_df: Pandas DataFrame containing book data.\n",
        "    :return: A df of the selected book's metadata or None if no valid selection is made.\n",
        "    \"\"\"\n",
        "    # Check if the DataFrame is empty\n",
        "    if books_df.empty:\n",
        "        print(\"No books available to select.\")\n",
        "        return None  # Can be enhanced by asking to repeat\n",
        "\n",
        "    start_index = 0  # Initial starting index for displaying books\n",
        "    books2display = 4  # Adjusted to show x books per batch\n",
        "    print(f\"There were {len(books_df)} books found\")\n",
        "\n",
        "    while True:\n",
        "        # Calculate end_index based on the start_index and books2display\n",
        "        end_index = start_index + books2display\n",
        "        subset_books = books_df.iloc[start_index:end_index]\n",
        "\n",
        "        if subset_books.empty:\n",
        "            print(\"No more books to display.\")\n",
        "            return None  # Stop if there are no more books to display\n",
        "\n",
        "        print(\"\\nAvailable books:\")\n",
        "        j=0\n",
        "        for i, row in subset_books.iterrows():\n",
        "            j+=1\n",
        "            print(f\"{j}: {row['Title']} by {row['Authors']}\")\n",
        "\n",
        "        # Show option to display more books only if there are more books to show\n",
        "        if int(len(subset_books)) % int(books2display) == 0:\n",
        "            print(f\"{int(books2display) +1}: Show the next {int(books2display)} books\") #only is shown when there are books to show\n",
        "\n",
        "        print(\"0: Cancel selection\")\n",
        "\n",
        "        # Prompt the user to choose a book\n",
        "        try:\n",
        "            choice = int(input(f\"\\nEnter the number of the book you want to select, {books2display + 1} to show more, or 0 to cancel: \"))\n",
        "\n",
        "            if 1 <= choice <= len(subset_books):\n",
        "                # Return the selected book's data as a df\n",
        "                selected_book = subset_books.iloc[[choice - 1]]  # Use .to_dict() to return a dict [[]] returns a df\n",
        "                print(f\"\\nYou selected: {selected_book['Title']} by {selected_book['Authors']}\")\n",
        "                return selected_book\n",
        "            elif choice == (books2display + 1):\n",
        "                # Show the next batch of books\n",
        "                start_index += books2display\n",
        "            elif choice == 0:\n",
        "                print(\"Selection canceled.\")\n",
        "                return None\n",
        "            else:\n",
        "                print(\"Invalid selection. Please choose a valid option.\")\n",
        "        except ValueError:\n",
        "            print(\"Invalid input. Please enter a number between 1 and 6, or 0 to cancel.\")\n"
      ],
      "metadata": {
        "id": "24bka4YFtjnY"
      },
      "execution_count": 174,
      "outputs": []
    },
    {
      "cell_type": "code",
      "source": [
        "def flush_stored_books_df():\n",
        "    really = input(\"Do you want to empty the internal book storage??? then say: yes \")\n",
        "    if really == \"yes\":\n",
        "        global stored_books_df  # Modify global variable\n",
        "        stored_books_df = None  # Reset to empty DataFrame\n",
        "        print(\"Internal book storage emptied.\")\n",
        "    else:\n",
        "        print(\"Nothing happened...\")\n"
      ],
      "metadata": {
        "id": "69tQPhGYVnJ_"
      },
      "execution_count": 175,
      "outputs": []
    },
    {
      "cell_type": "code",
      "source": [
        "def place_selection(selection_df):\n",
        "    \"\"\"\n",
        "    Place a selection into the global stored_books_df, ensuring no duplicates are added.\n",
        "    If 'stored_books_df' does not exist or is None, it initializes it as an empty DataFrame.\n",
        "\n",
        "    Args:\n",
        "    - selection_df (pd.DataFrame): A single-row DataFrame to be added to stored_books_df.\n",
        "\n",
        "    Returns:\n",
        "    - None: Updates the global stored_books_df.\n",
        "    \"\"\"\n",
        "    global stored_books_df  # Access the global variable\n",
        "\n",
        "    # Check if 'stored_books_df' exists or is None\n",
        "    if \"stored_books_df\" not in globals() or stored_books_df is None:\n",
        "        stored_books_df = pd.DataFrame()  # Instantiate an empty DataFrame\n",
        "\n",
        "\n",
        "    # Check for duplicates\n",
        "    if stored_books_df.empty:\n",
        "        # If empty, directly assign selection_df to stored_books_df\n",
        "        stored_books_df = selection_df\n",
        "    else:\n",
        "        # Check for duplicates by comparing with existing rows in stored_books_df\n",
        "        if not stored_books_df.isin(selection_df.to_dict(orient='list')).all(axis=1).any():\n",
        "            # If no duplicate, append the new row\n",
        "            stored_books_df = pd.concat([stored_books_df, selection_df], ignore_index=True)\n",
        "\n",
        "    print(\"Updated stored_books_df:\")\n",
        "    print(stored_books_df.head(5))\n"
      ],
      "metadata": {
        "id": "lAas4kZkfvDl"
      },
      "execution_count": 176,
      "outputs": []
    },
    {
      "cell_type": "code",
      "source": [
        "flush_stored_books_df()"
      ],
      "metadata": {
        "colab": {
          "base_uri": "https://localhost:8080/"
        },
        "id": "BPM_PmLWAecH",
        "outputId": "9958d9d5-1844-4467-872a-30038164f62b"
      },
      "execution_count": 177,
      "outputs": [
        {
          "output_type": "stream",
          "name": "stdout",
          "text": [
            "Do you want to empty the internal book storage??? then say: yes yes\n",
            "Internal book storage emptied.\n"
          ]
        }
      ]
    },
    {
      "cell_type": "code",
      "source": [
        "# Define your search query (e.g., by title or author)\n",
        "# example of serach query:\n",
        "#query_params = {\"intitle\": \"Python\", \"inauthor\": \"Guido\", \"isbn\": \"9781449355739\"}\n",
        "query_params = {\"intitle\": \"Momo\"}\n",
        "\n",
        "raw_data = fetch_books_data(query_params)\n",
        "book_df= json_to_dataframe(raw_data)\n",
        "selection_df = select_book_from_results(book_df)\n",
        "place_selection(selection_df)\n",
        "#print(selection_df)\n",
        "#formatted_json = format_json(raw_data)\n",
        "#books_df = json_to_dataframe(raw_data)\n",
        "#print(formatted_json)\n",
        "#print(books_df.head())"
      ],
      "metadata": {
        "colab": {
          "base_uri": "https://localhost:8080/"
        },
        "id": "SXbTQK_NigWF",
        "outputId": "829bc0a9-2fb0-4a40-9b0e-d6b47fd57e96"
      },
      "execution_count": 178,
      "outputs": [
        {
          "output_type": "stream",
          "name": "stdout",
          "text": [
            "There were 13 books found\n",
            "\n",
            "Available books:\n",
            "1: Momo en de tijdspaarders by Michael Andreas Helmuth Ende\n",
            "2: Momo en de tijdspaarders by Michael Ende\n",
            "3: Momo by Michael Ende\n",
            "4: Momo oder Die seltsame Geschichte von den Zeit-Dieben und von dem Kind, das den Menschen die gestohlene Zeit zurückbrachte by Michael Ende\n",
            "5: Show the next 4 books\n",
            "0: Cancel selection\n",
            "\n",
            "Enter the number of the book you want to select, 5 to show more, or 0 to cancel: 5\n",
            "\n",
            "Available books:\n",
            "1: Find Momo across Europe by Andrew Knapp\n",
            "2: Momo by Michael\n",
            "3: The Life of Momo by Mohamed Alhomsy\n",
            "4: Momo, o, La extraña de los ladrones del tiempo y de la niña que devolvió el tiempo a los hombres by Michael Ende\n",
            "5: Show the next 4 books\n",
            "0: Cancel selection\n",
            "\n",
            "Enter the number of the book you want to select, 5 to show more, or 0 to cancel: 2\n",
            "\n",
            "You selected: 5    Momo\n",
            "Name: Title, dtype: object by 5    Michael\n",
            "Name: Authors, dtype: object\n",
            "Updated stored_books_df:\n",
            "             ID Title  Authors    Publisher  Page Count Language  \\\n",
            "5  0y7lBQAAQBAJ  Momo  Michael  McSweeney's         211       en   \n",
            "\n",
            "           Category                                          Thumbnail  \\\n",
            "5  Juvenile Fiction  http://books.google.com/books/content?id=0y7lB...   \n",
            "\n",
            "         ISBN_13     ISBN_10  \n",
            "5  9781938073991  1938073991  \n"
          ]
        }
      ]
    },
    {
      "cell_type": "code",
      "source": [
        "print(stored_books_df)"
      ],
      "metadata": {
        "colab": {
          "base_uri": "https://localhost:8080/"
        },
        "id": "q8buwoOg07Hk",
        "outputId": "bf69d91e-077f-42d4-c500-3224919c1e16"
      },
      "execution_count": 179,
      "outputs": [
        {
          "output_type": "stream",
          "name": "stdout",
          "text": [
            "             ID Title  Authors    Publisher  Page Count Language  \\\n",
            "5  0y7lBQAAQBAJ  Momo  Michael  McSweeney's         211       en   \n",
            "\n",
            "           Category                                          Thumbnail  \\\n",
            "5  Juvenile Fiction  http://books.google.com/books/content?id=0y7lB...   \n",
            "\n",
            "         ISBN_13     ISBN_10  \n",
            "5  9781938073991  1938073991  \n"
          ]
        }
      ]
    },
    {
      "cell_type": "code",
      "source": [
        "flush_stored_books_df()\n",
        "print(stored_books_df)"
      ],
      "metadata": {
        "colab": {
          "base_uri": "https://localhost:8080/"
        },
        "id": "KESfBUQOZIsv",
        "outputId": "1fe16df3-f595-4d55-e12d-72b2d805d7eb"
      },
      "execution_count": 110,
      "outputs": [
        {
          "output_type": "stream",
          "name": "stdout",
          "text": [
            "Do you want to empty the internal book storage??? then say: yes yes\n",
            "Internal book storage emptied.\n",
            "None\n"
          ]
        }
      ]
    },
    {
      "cell_type": "code",
      "source": [
        "# Set display options\n",
        "pd.set_option('display.max_colwidth', None)  # This ensures that full content is shown in each column\n",
        "pd.set_option('display.max_rows', 100)      # Set the number of rows you want to display\n",
        "pd.set_option('display.max_columns', 20)    # Set the number of columns you want to display\n"
      ],
      "metadata": {
        "id": "svhRm04FnFoJ"
      },
      "execution_count": null,
      "outputs": []
    },
    {
      "cell_type": "code",
      "source": [
        "\"\"\"\n",
        "old code to delete\n",
        "def select_book_from_results(books_df):\n",
        "\n",
        "\n",
        "    Allows the user to select a book from the results in the DataFrame,\n",
        "    displaying them in batches of 5. If '6' is selected, the next batch is shown.\n",
        "\n",
        "    :param books_df: Pandas DataFrame containing book data.\n",
        "    :return: A dictionary of the selected book's metadata or None if no valid selection is made.\n",
        "\n",
        "\n",
        "    # Check if the DataFrame is empty\n",
        "    if books_df.empty:\n",
        "        print(\"No books available to select.\")\n",
        "        return None  # Can be enhanced by asking to repeat\n",
        "\n",
        "    start_index = 0  # Initial starting index for displaying books\n",
        "    books2display = 4\n",
        "    print(f\"There were \" + str(len(books_df)) + \" books found\")\n",
        "\n",
        "    while True:\n",
        "        # Display the next batch of books (5 at a time)\n",
        "        end_index = start_index + int(books2display) #5\n",
        "        subset_books = books_df.iloc[start_index:end_index]\n",
        "\n",
        "        if subset_books.empty:\n",
        "            print(\"No more books to display.\")\n",
        "            return None  # Stop if there are no more books to display\n",
        "\n",
        "        print(\"\\nAvailable books:\")\n",
        "\n",
        "        for i, row in subset_books.iterrows():\n",
        "            print(f\"{i + 1}: {row['Title']} by {row['Authors']}\")\n",
        "\n",
        "        if int(len(subset_books)) % int(books2display) == 0:\n",
        "            print(f\"{int(books2display) +1}: Show the next {int(books2display)} books\") #only is shown when there are books to show\n",
        "\n",
        "        print(\"0: Cancel selection\")\n",
        "\n",
        "        # Prompt the user to choose a book\n",
        "        try:\n",
        "            choice = int(input(f\"\\nEnter the number of the book you want to select, {int(books2display)} to show more, or 0 to cancel: \"))\n",
        "            if 1 <= choice <= len(subset_books):\n",
        "                # Return the selected book's data as a dictionary\n",
        "                selected_book = subset_books.iloc[[choice - 1 - start_index]]    #.to_dict() if I want a dict, wrap in [] to pass a list into iloc which returns a df instead of series\n",
        "                print(f\"\\nYou selected: {selected_book['Title']} by {selected_book['Authors']}\")\n",
        "                return selected_book\n",
        "            elif choice == (int(books2display)+1):\n",
        "                # Show the next batch of books\n",
        "                start_index += int(books2display)\n",
        "            elif choice == 0:\n",
        "                print(\"Selection canceled.\")\n",
        "                return None\n",
        "            else:\n",
        "                print(\"Invalid selection. Please choose a valid option.\")\n",
        "        except ValueError:\n",
        "            print(\"Invalid input. Please enter a number between 1 and 6, or 0 to cancel.\")\n",
        "\n",
        "\"\"\"\n"
      ],
      "metadata": {
        "id": "WufLa7sEoSpV"
      },
      "execution_count": null,
      "outputs": []
    },
    {
      "cell_type": "code",
      "source": [
        "\"\"\"\n",
        "old code to be deleted\n",
        "# Check if 'stored_books_df' exists, if not create it\n",
        "if \"stored_books_df\" not in globals() or stored_books_df is None:\n",
        "    stored_books_df = pd.DataFrame()  # Instantiate an empty DataFrame\n",
        "print(type(stored_books_df))\n",
        "print(type(selection_df))\n",
        "# Check for duplicates by comparing with existing rows in stored_books_df\n",
        "if stored_books_df.empty:\n",
        "    # If empty, directly assign selection_df to stored_books_df\n",
        "    stored_books_df = selection_df\n",
        "else:\n",
        "    # Check for duplicates by comparing with existing rows in stored_books_df\n",
        "    if not stored_books_df.isin(selection_df.to_dict(orient='list')).all(axis=1).any():\n",
        "        # If no duplicate, append the new row\n",
        "        stored_books_df = pd.concat([stored_books_df, selection_df], ignore_index=True)\n",
        "\n",
        "print(stored_books_df.head(5))\n"
      ],
      "metadata": {
        "colab": {
          "base_uri": "https://localhost:8080/"
        },
        "id": "VcA97C8WB27F",
        "outputId": "478d1498-d995-450a-9b59-a1446bb11ffc"
      },
      "execution_count": 117,
      "outputs": [
        {
          "output_type": "stream",
          "name": "stdout",
          "text": [
            "<class 'pandas.core.frame.DataFrame'>\n",
            "<class 'pandas.core.frame.DataFrame'>\n",
            "             ID                                              Title  \\\n",
            "0  H9emM_LGFDEC                            Programming in Python 3   \n",
            "1  KabKDAAAQBAJ  Introduction to Computation and Programming Us...   \n",
            "\n",
            "            Authors                    Publisher  Page Count Language  \\\n",
            "0  Mark Summerfield  Addison-Wesley Professional         648       en   \n",
            "1    John V. Guttag                    MIT Press         466       en   \n",
            "\n",
            "    Category                                          Thumbnail  \\\n",
            "0  Computers  http://books.google.com/books/content?id=H9emM...   \n",
            "1  Computers  http://books.google.com/books/content?id=KabKD...   \n",
            "\n",
            "         ISBN_13     ISBN_10  \n",
            "0  9780321680563  0321680561  \n",
            "1  9780262529624  0262529629  \n"
          ]
        }
      ]
    }
  ]
}